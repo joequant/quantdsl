{
 "cells": [
  {
   "cell_type": "code",
   "execution_count": null,
   "metadata": {},
   "outputs": [],
   "source": [
    "!pip install quantdsl"
   ]
  },
  {
   "cell_type": "markdown",
   "metadata": {},
   "source": [
    "# Quant DSL Notebook\n",
    "\n",
    "Welcome to the example Quant DSL example notebook. This is a Jupyter notebook showing how to use Quant DSL.\n",
    "\n",
    "In the section below, a model of a power plant is defined using Quant DSL. The optionality is modelled\n",
    "recursively, so that the value of a power plant today is the choice between either running the plant today\n",
    "and then deciding whether or not to run a hot power plant tomorrow, or not running the power plant today\n",
    "and then deciding whether or not to run a cooler less efficient power plant tomorrow, and so on until the end."
   ]
  },
  {
   "cell_type": "code",
   "execution_count": 1,
   "metadata": {},
   "outputs": [
    {
     "name": "stdout",
     "output_type": "stream",
     "text": [
      "Overwriting powerplant.py\n"
     ]
    }
   ],
   "source": [
    "%%writefile powerplant.py\n",
    "from quantdsl.semantics import Choice, TimeDelta, Wait, inline\n",
    "\n",
    "\n",
    "def PowerPlant(start, end, temp):\n",
    "    if (start < end):\n",
    "        Wait(start, Choice(\n",
    "            PowerPlant(Tomorrow(start), end, Hot()) + ProfitFromRunning(start, temp),\n",
    "            PowerPlant(Tomorrow(start), end, Stopped(temp))\n",
    "        ))\n",
    "    else:\n",
    "        return 0\n",
    "\n",
    "\n",
    "@inline\n",
    "def Power(start):\n",
    "    DayAhead(start, 'POWER')\n",
    "\n",
    "\n",
    "@inline\n",
    "def Gas(start):\n",
    "    DayAhead(start, 'GAS')\n",
    "\n",
    "\n",
    "@inline\n",
    "def DayAhead(start, name):\n",
    "    ForwardMarket(Tomorrow(start), name)\n",
    "\n",
    "    \n",
    "@inline\n",
    "def Tomorrow(start):\n",
    "    start + TimeDelta('1d')\n",
    "\n",
    "\n",
    "@inline\n",
    "def ProfitFromRunning(start, temp):\n",
    "    if temp == Cold():\n",
    "        return 0.3 * Power(start) - Gas(start)\n",
    "    elif temp == Warm():\n",
    "        return 0.6 * Power(start) - Gas(start)\n",
    "    else:\n",
    "        return Power(start) - Gas(start)\n",
    "\n",
    "\n",
    "@inline\n",
    "def Stopped(temp):\n",
    "    if temp == Hot():\n",
    "        Warm()\n",
    "    else:\n",
    "        Cold()\n",
    "\n",
    "\n",
    "@inline\n",
    "def Hot():\n",
    "    2\n",
    "\n",
    "\n",
    "@inline\n",
    "def Warm():\n",
    "    1\n",
    "\n",
    "\n",
    "@inline\n",
    "def Cold():\n",
    "    0"
   ]
  },
  {
   "cell_type": "markdown",
   "metadata": {},
   "source": [
    "Next, let's model the market in the underlyings. The contract model above involves two markets 'POWER' and 'GAS'.\n",
    "\n",
    "Below the library's `BlackScholesPriceProcess` is configured for two markets, with volatility `sigma`, correlation coefficients `rho`, and a forward prices `curve`."
   ]
  },
  {
   "cell_type": "code",
   "execution_count": 9,
   "metadata": {},
   "outputs": [],
   "source": [
    "gas_and_power = {\n",
    "    'name': 'quantdsl.priceprocess.blackscholes.BlackScholesPriceProcess',\n",
    "    'market': ['GAS', 'POWER'],\n",
    "    'sigma': [0.2, 0.2],\n",
    "    'rho': [[1.0, 0.8], [0.8, 1.0]],\n",
    "    'curve': {\n",
    "        'GAS': [\n",
    "            ('2011-1-1', 1),\n",
    "            ('2012-1-1', 13.5),\n",
    "            ('2012-1-2', 19.4),\n",
    "            ('2012-1-3', 10.5),\n",
    "            ('2012-1-4', 10.3),\n",
    "            ('2012-1-5', 10.1),\n",
    "            ('2012-1-6', 10.2),\n",
    "        ],\n",
    "        'POWER': [\n",
    "            ('2011-1-1', 11),\n",
    "            ('2012-1-1', 15.5),\n",
    "            ('2012-1-2', 14.0),\n",
    "            ('2012-1-3', 15.0),\n",
    "            ('2012-1-4', 11.0),\n",
    "            ('2012-1-5', 1.0),\n",
    "            ('2012-1-6', 15.0),\n",
    "        ]\n",
    "    }\n",
    "}"
   ]
  },
  {
   "cell_type": "markdown",
   "metadata": {},
   "source": [
    "Now we can use the quantdsl library's `calc()` function to evaluate the contract model against the market model.\n",
    "\n",
    "In the Quant DSL expression below, the power plant is modelled over the first twelve days in January 2012, from a cold start. The valuation is observed a year earlier, at the start of January 2011. The interest rate is 2.5%."
   ]
  },
  {
   "cell_type": "code",
   "execution_count": 16,
   "metadata": {},
   "outputs": [
    {
     "name": "stdout",
     "output_type": "stream",
     "text": [
      "Compiled 79 nodes \n",
      "Compilation in 0.752s\n",
      "Simulation in 0.140s\n",
      "Starting 1267 node evaluations, please wait...\n",
      "1267/1267 100.00% complete 116.07 eval/s running 11s eta 0s     \n",
      "Evaluation in 10.916s\n"
     ]
    }
   ],
   "source": [
    "from quantdsl import calc\n",
    "\n",
    "results = calc(\n",
    "    source_code=(\"from powerplant import PowerPlant, Cold, Date\\n\"\n",
    "                 \"PowerPlant(Date('2012-1-1'), Date('2012-1-12'), Cold())\"),\n",
    "    observation_date='2011-11-1',\n",
    "    interest_rate=12.5,\n",
    "    periodisation='daily',\n",
    "    price_process=gas_and_power,\n",
    "    verbose=True\n",
    ")"
   ]
  },
  {
   "cell_type": "markdown",
   "metadata": {},
   "source": [
    "Because the `periodisation` argument of `calc` was used, so there are some \"periods\", and the results can be plotted using `results.plot()`.\n",
    "\n",
    "In this example, the simulated gas and power prices are displayed, with confidence intervals reflecting the diffusion of the prices in the simulation.\n",
    "\n",
    "The delta hedges are shown, which reflect the optimal dispatch decisions. Uncertainty in the decisions is reflected in the asymmetric confidence intervals.\n",
    "\n",
    "Finally, the cumulative cash from the hedge positions (discounted to the observation date) is polotted in green."
   ]
  },
  {
   "cell_type": "code",
   "execution_count": 17,
   "metadata": {},
   "outputs": [
    {
     "data": {
      "image/png": "[encoded data removed]",
      "text/plain": [
       "<matplotlib.figure.Figure at 0x10e054240>"
      ]
     },
     "metadata": {},
     "output_type": "display_data"
    }
   ],
   "source": [
    "results.plot(\n",
    "    confidence_interval=95,\n",
    "    figsize=(12, 14)\n",
    ")"
   ]
  },
  {
   "cell_type": "markdown",
   "metadata": {},
   "source": [
    "The results can be printed to show month-by-month data plotted above. The fair value, produced directly by the model before the deltas are calculated, is printed last."
   ]
  },
  {
   "cell_type": "code",
   "execution_count": 15,
   "metadata": {},
   "outputs": [
    {
     "name": "stdout",
     "output_type": "stream",
     "text": [
      "\n",
      "\n",
      "2012-01-02 GAS\n",
      "Price:    19.40\n",
      "Delta:    -0.01\n",
      "Hedge:     0.01 ± 0.00\n",
      "Cash:     -0.21 ± 0.04\n",
      "\n",
      "2012-01-02 POWER\n",
      "Price:    13.99\n",
      "Delta:     0.00\n",
      "Hedge:    -0.00 ± 0.00\n",
      "Cash:      0.06 ± 0.02\n",
      "\n",
      "2012-01-03 GAS\n",
      "Price:    10.50\n",
      "Delta:    -0.10\n",
      "Hedge:     0.12 ± 0.00\n",
      "Cash:     -0.95 ± 0.07\n",
      "\n",
      "2012-01-03 POWER\n",
      "Price:    14.99\n",
      "Delta:     0.04\n",
      "Hedge:    -0.04 ± 0.00\n",
      "Cash:      0.66 ± 0.06\n",
      "\n",
      "2012-01-04 GAS\n",
      "Price:    10.30\n",
      "Delta:    -0.10\n",
      "Hedge:     0.11 ± 0.00\n",
      "Cash:     -0.92 ± 0.06\n",
      "\n",
      "2012-01-04 POWER\n",
      "Price:    10.99\n",
      "Delta:     0.10\n",
      "Hedge:    -0.11 ± 0.00\n",
      "Cash:      1.22 ± 0.08\n",
      "\n",
      "2012-01-05 GAS\n",
      "Price:    10.10\n",
      "Delta:    -0.51\n",
      "Hedge:     0.58 ± 0.00\n",
      "Cash:     -5.11 ± 0.10\n",
      "\n",
      "2012-01-05 POWER\n",
      "Price:     1.00\n",
      "Delta:     0.15\n",
      "Hedge:    -0.17 ± 0.00\n",
      "Cash:      0.16 ± 0.01\n",
      "\n",
      "2012-01-06 GAS\n",
      "Price:    10.20\n",
      "Delta:    -0.86\n",
      "Hedge:     0.98 ± 0.00\n",
      "Cash:     -8.79 ± 0.07\n",
      "\n",
      "2012-01-06 POWER\n",
      "Price:    14.99\n",
      "Delta:     0.65\n",
      "Hedge:    -0.74 ± 0.00\n",
      "Cash:      9.88 ± 0.12\n",
      "\n",
      "2012-01-07 GAS\n",
      "Price:    10.20\n",
      "Delta:    -0.87\n",
      "Hedge:     0.99 ± 0.00\n",
      "Cash:     -8.83 ± 0.06\n",
      "\n",
      "2012-01-07 POWER\n",
      "Price:    14.99\n",
      "Delta:     0.86\n",
      "Hedge:    -0.98 ± 0.00\n",
      "Cash:     13.01 ± 0.08\n",
      "\n",
      "2012-01-08 GAS\n",
      "Price:    10.20\n",
      "Delta:    -0.87\n",
      "Hedge:     0.99 ± 0.00\n",
      "Cash:     -8.84 ± 0.05\n",
      "\n",
      "2012-01-08 POWER\n",
      "Price:    14.99\n",
      "Delta:     0.87\n",
      "Hedge:    -0.99 ± 0.00\n",
      "Cash:     13.04 ± 0.07\n",
      "\n",
      "2012-01-09 GAS\n",
      "Price:    10.20\n",
      "Delta:    -0.87\n",
      "Hedge:     0.99 ± 0.00\n",
      "Cash:     -8.84 ± 0.05\n",
      "\n",
      "2012-01-09 POWER\n",
      "Price:    14.99\n",
      "Delta:     0.87\n",
      "Hedge:    -0.99 ± 0.00\n",
      "Cash:     13.04 ± 0.07\n",
      "\n",
      "2012-01-10 GAS\n",
      "Price:    10.20\n",
      "Delta:    -0.87\n",
      "Hedge:     0.99 ± 0.00\n",
      "Cash:     -8.83 ± 0.05\n",
      "\n",
      "2012-01-10 POWER\n",
      "Price:    15.00\n",
      "Delta:     0.87\n",
      "Hedge:    -0.99 ± 0.00\n",
      "Cash:     13.04 ± 0.07\n",
      "\n",
      "2012-01-11 GAS\n",
      "Price:    10.20\n",
      "Delta:    -0.87\n",
      "Hedge:     0.99 ± 0.00\n",
      "Cash:     -8.84 ± 0.05\n",
      "\n",
      "2012-01-11 POWER\n",
      "Price:    15.00\n",
      "Delta:     0.87\n",
      "Hedge:    -0.99 ± 0.00\n",
      "Cash:     13.04 ± 0.07\n",
      "\n",
      "2012-01-12 GAS\n",
      "Price:    10.20\n",
      "Delta:    -0.87\n",
      "Hedge:     0.99 ± 0.00\n",
      "Cash:     -8.83 ± 0.05\n",
      "\n",
      "2012-01-12 POWER\n",
      "Price:    15.00\n",
      "Delta:     0.87\n",
      "Hedge:    -0.99 ± 0.00\n",
      "Cash:     13.04 ± 0.07\n",
      "\n",
      "Net hedge GAS:       7.73 ± 0.03\n",
      "Net hedge POWER:    -6.98 ± 0.03\n",
      "Net hedge cash:     21.20 ± 0.25\n",
      "\n",
      "Fair value: 21.23 ± 0.24\n",
      "\n"
     ]
    }
   ],
   "source": [
    "print(results)"
   ]
  },
  {
   "cell_type": "markdown",
   "metadata": {},
   "source": [
    "The contract deltas are calculated by perturbing the underlying values and revaluing the contract. The hedge positions are calculated to obtain risk neutral positions in each period.\n",
    "Hedges are forward contracts, and since the delta of a forward contract is the discount rate, so the hedge quantities are slightly different from the contract deltas when interest rates are non-zero.\n",
    "The cash from the hedges is hedge quantity multiplied by the price, and that value is discounted from the period to the observation date. These discounted cash values are summed to give the\n",
    "net cash from hedges."
   ]
  },
  {
   "cell_type": "code",
   "execution_count": null,
   "metadata": {},
   "outputs": [],
   "source": []
  }
 ],
 "metadata": {
  "kernelspec": {
   "display_name": "Python 3",
   "language": "python",
   "name": "python3"
  },
  "language_info": {
   "codemirror_mode": {
    "name": "ipython",
    "version": 3
   },
   "file_extension": ".py",
   "mimetype": "text/x-python",
   "name": "python",
   "nbconvert_exporter": "python",
   "pygments_lexer": "ipython3",
   "version": "3.6.3"
  }
 },
 "nbformat": 4,
 "nbformat_minor": 1
}
